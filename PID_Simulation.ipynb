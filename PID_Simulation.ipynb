{
 "cells": [
  {
   "cell_type": "code",
   "execution_count": 3,
   "id": "4eca52d3",
   "metadata": {},
   "outputs": [
    {
     "data": {
      "application/vnd.jupyter.widget-view+json": {
       "model_id": "205e4bbb86c7441982ea21b6d641b18c",
       "version_major": 2,
       "version_minor": 0
      },
      "text/plain": [
       "interactive(children=(FloatSlider(value=5.0, description='Kp', max=20.0, min=0.1), FloatSlider(value=0.0, desc…"
      ]
     },
     "metadata": {},
     "output_type": "display_data"
    },
    {
     "data": {
      "text/plain": [
       "<function __main__.simulate_pid_with_delay(Kp, Ki, Kd, delay_seconds)>"
      ]
     },
     "execution_count": 3,
     "metadata": {},
     "output_type": "execute_result"
    }
   ],
   "source": [
    "import numpy as np\n",
    "import matplotlib.pyplot as plt\n",
    "from collections import deque\n",
    "from ipywidgets import interact, FloatSlider\n",
    "\n",
    "# Define the function that simulates the system\n",
    "def simulate_pid_with_delay(Kp, Ki, Kd, delay_seconds):\n",
    "    \"\"\"\n",
    "    Simulates a closed-loop control system with a full PID controller and a\n",
    "    transport delay.\n",
    "    \n",
    "    Args:\n",
    "        Kp (float): Proportional gain.\n",
    "        Ki (float): Integral gain.\n",
    "        Kd (float): Derivative gain.\n",
    "        tau (float): Time constant of the first-order system.\n",
    "    \"\"\"\n",
    "    # System parameters\n",
    "    tau=5 # Time constant of the first-order system\n",
    "    sat_limit=10 # The saturation limit for the controller output\n",
    "\n",
    "    # Simulation parameters\n",
    "    t_final = 25\n",
    "    dt = 0.05  # Time step\n",
    "    t_vals = np.arange(0, t_final, dt)\n",
    "    \n",
    "    # Store past values for the delay\n",
    "    delay_steps = int(delay_seconds / dt)\n",
    "    if delay_steps == 0:\n",
    "        delay_steps = 1\n",
    "    \n",
    "    # A deque is an efficient way to store a fixed-size history\n",
    "    delayed_input = deque([0.0] * delay_steps, maxlen=delay_steps)\n",
    "    \n",
    "    # State variables\n",
    "    y_system = np.zeros_like(t_vals)\n",
    "    y_current = 0.0\n",
    "    \n",
    "    # PID controller state variables\n",
    "    e_integral = 0.0\n",
    "    e_prev = 0.0\n",
    "    \n",
    "    # Main simulation loop\n",
    "    for i in range(len(t_vals)):\n",
    "        # Desired setpoint (step input at t=0)\n",
    "        r = 1.0\n",
    "        \n",
    "        # Calculate the error\n",
    "        e = r - y_current\n",
    "        \n",
    "        # Calculate the integral term (using a rectangular approximation)\n",
    "        e_integral += e * dt\n",
    "        \n",
    "        # Calculate the derivative term (using finite difference)\n",
    "        e_derivative = (e - e_prev) / dt\n",
    "        \n",
    "        # PID control signal\n",
    "        u_unlimited = Kp * e + Ki * e_integral + Kd * e_derivative\n",
    "        \n",
    "        # Apply saturation\n",
    "        u_saturated = max(-sat_limit, min(sat_limit, u_unlimited))\n",
    "        \n",
    "        # Update the delayed input queue with the current saturated control signal\n",
    "        delayed_input.append(u_saturated)\n",
    "        \n",
    "        # The input to the process is the delayed signal\n",
    "        u_process = delayed_input[0]\n",
    "        \n",
    "        # Non-linear first-order system dynamics: dy/dt = (u_process - y) / tau\n",
    "        dydt = (u_process - y_current) / tau\n",
    "        \n",
    "        # Euler integration to update the system state\n",
    "        y_current += dydt * dt\n",
    "        y_system[i] = y_current\n",
    "        \n",
    "        # Update previous error for the next derivative calculation\n",
    "        e_prev = e\n",
    "        \n",
    "    # Plotting\n",
    "    fig, ax = plt.subplots(figsize=(10, 6))\n",
    "    ax.plot(t_vals, y_system, label=f'Kp={Kp}, Ki={Ki}, Kd={Kd}, Delay={delay_seconds}s')\n",
    "    ax.set_title('PID Control with Transport Delay (Setpoint = 1)')\n",
    "    ax.set_xlabel('Time (s)')\n",
    "    ax.set_ylabel('Output')\n",
    "    ax.set_ylim(-0.5, 2.0)\n",
    "    ax.grid(True)\n",
    "    ax.legend()\n",
    "    plt.show()\n",
    "\n",
    "# Create the interactive sliders\n",
    "interact(simulate_pid_with_delay,\n",
    "         Kp=FloatSlider(min=0.1, max=20.0, step=0.1, value=5.0, description='Kp'),\n",
    "         Ki=FloatSlider(min=0.0, max=3.0, step=0.1, value=0.0, description='Ki'),\n",
    "         Kd=FloatSlider(min=0.0, max=5.0, step=0.1, value=0.0, description='Kd'),\n",
    "         delay_seconds=FloatSlider(min=0.0, max=2, step=0.1, value=1.0, description='Delay (s)'),\n",
    "        )"
   ]
  }
 ],
 "metadata": {
  "kernelspec": {
   "display_name": "CHE_593C",
   "language": "python",
   "name": "python3"
  },
  "language_info": {
   "codemirror_mode": {
    "name": "ipython",
    "version": 3
   },
   "file_extension": ".py",
   "mimetype": "text/x-python",
   "name": "python",
   "nbconvert_exporter": "python",
   "pygments_lexer": "ipython3",
   "version": "3.11.9"
  }
 },
 "nbformat": 4,
 "nbformat_minor": 5
}
