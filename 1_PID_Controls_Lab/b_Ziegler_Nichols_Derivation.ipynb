{
 "cells": [
  {
   "cell_type": "markdown",
   "metadata": {},
   "source": [
    "# Ziegler-Nichols PID Tuning\n",
    "\n",
    "The goal of this notebook is to go over a specific version of PID tuning, the Ziegler-Nichols method. The overarching goal can be viewed on the appropriate Wikipedia page (https://en.wikipedia.org/wiki/Ziegler%E2%80%93Nichols_method); however, a brief description is as follows.  Start by setting the I and D components of the PID to zero and have the proportional component set to an low, but appropriate value.  Given an appropriate setpoint, slowly increase the value of the proportional gain ($K_p$) until the system process begins to ocsilate.  This proportional gain is known as the ultimate gain ($K_u$) and the corresponding oscillation period is denoted $T_u$.  Given these two values, you can follow the table on the Wikipedia page to determine what you should set your PID parameters to.\n",
    "\n",
    "The goal of this notebook is to create an object oriented approach to setting up the Ziegler-Nichols PID tuning paradigm, given a fake system that can be simulated."
   ]
  },
  {
   "cell_type": "code",
   "execution_count": 1,
   "metadata": {},
   "outputs": [],
   "source": [
    "# Import Relevant Libraries\n",
    "import numpy as np\n",
    "import matplotlib.pyplot as plt"
   ]
  },
  {
   "cell_type": "markdown",
   "metadata": {},
   "source": [
    "The first step is to set up an object that represents the PID controller. This object will be in charge of storing the appropriate PID values and have the method for proprosing the control output based on the setpoint and current value."
   ]
  },
  {
   "cell_type": "code",
   "execution_count": 2,
   "metadata": {},
   "outputs": [],
   "source": [
    "class PIDController:\n",
    "    def __init__(self, Kp, Ki, Kd, setpoint):\n",
    "        \"\"\"\n",
    "        Initialize the PID controller.\n",
    "        \n",
    "        Args:\n",
    "            Kp (float): Proportional gain\n",
    "            Ki (float): Integral gain\n",
    "            Kd (float): Derivative gain\n",
    "            setpoint (float): Desired value of the controlled variable\n",
    "        \"\"\"\n",
    "        self.Kp = Kp\n",
    "        self.Ki = Ki\n",
    "        self.Kd = Kd\n",
    "        self.setpoint = setpoint\n",
    "        self.integral = 0  # Accumulated integral error\n",
    "        self.previous_error = 0  # Error from the previous update\n",
    "    \n",
    "    def update(self, measured_value, dt):\n",
    "        \"\"\"\n",
    "        Update the PID controller and calculate the control output.\n",
    "        \n",
    "        Args:\n",
    "            measured_value (float): Current value of the controlled variable\n",
    "            dt (float): Time step since the last update\n",
    "        \n",
    "        Returns:\n",
    "            float: The control output\n",
    "        \"\"\"\n",
    "        # Calculate error (difference between setpoint and measured value)\n",
    "        error = self.setpoint - measured_value\n",
    "        \n",
    "        # Proportional term: proportional to the current error\n",
    "        P = self.Kp * error\n",
    "        \n",
    "        # Integral term: sum of all past errors\n",
    "        self.integral += error * dt\n",
    "        I = self.Ki * self.integral\n",
    "        \n",
    "        # Derivative term: rate of change of error\n",
    "        derivative = (error - self.previous_error) / dt\n",
    "        D = self.Kd * derivative\n",
    "        \n",
    "        # Compute the control output by summing P, I, and D terms\n",
    "        output = P + I + D\n",
    "        \n",
    "        # Store the current error for the next iteration\n",
    "        self.previous_error = error\n",
    "        \n",
    "        return output"
   ]
  },
  {
   "cell_type": "markdown",
   "metadata": {},
   "source": [
    "For this notebooks purpose, we are going to create a very simple system that can be used to see how this method would effectively run.  Below is the code block for that system."
   ]
  },
  {
   "cell_type": "code",
   "execution_count": 3,
   "metadata": {},
   "outputs": [],
   "source": [
    "def simulate_process(control_signal, previous_value):\n",
    "    \"\"\"\n",
    "    Simulate a simple second-order dynamic system.\n",
    "\n",
    "    This function models a basic process that responds to a control signal.\n",
    "    It represents a simplified version of a real-world system, where the\n",
    "    current state depends on both the input (control signal) and the\n",
    "    previous state.\n",
    "\n",
    "    Args:\n",
    "        control_signal (float): The input signal to the system, typically\n",
    "                                from a controller like PID.\n",
    "        previous_value (float): The output value of the system in its\n",
    "                                previous state.\n",
    "\n",
    "    Returns:\n",
    "        float: The new output value of the simulated system.\n",
    "\n",
    "    Notes:\n",
    "        - The equation used is a simplified model: \n",
    "          new_value = previous_value + (control_signal * 0.1) - (0.05 * previous_value)\n",
    "        - The coefficient 0.1 represents the system's responsiveness to the control signal.\n",
    "        - The term -0.05 * previous_value introduces a damping effect, preventing \n",
    "          unbounded growth and adding some \"inertia\" to the system.\n",
    "        - This is a very basic simulation and may not accurately represent \n",
    "          complex real-world systems.\n",
    "    \"\"\"\n",
    "    return previous_value + control_signal * 0.1 - 0.05 * previous_value"
   ]
  },
  {
   "cell_type": "markdown",
   "metadata": {},
   "source": [
    "Lastly, we need to write the code for the actual Ziegler-Nichols Tuning.  This is represented as follows."
   ]
  },
  {
   "cell_type": "code",
   "execution_count": 4,
   "metadata": {},
   "outputs": [],
   "source": [
    "def ziegler_nichols_tuning(setpoint=1, initial_Kp=1, max_iterations=100, dt=0.1):\n",
    "    \"\"\"\n",
    "    Perform Ziegler-Nichols tuning for a PID controller.\n",
    "\n",
    "    This function implements the Ziegler-Nichols tuning method, which is used to\n",
    "    find optimal PID controller parameters. It gradually increases the proportional\n",
    "    gain until the system begins to oscillate, then uses the critical gain and\n",
    "    oscillation period to calculate the PID parameters.\n",
    "\n",
    "    Args:\n",
    "        setpoint (float): The desired value for the controlled variable. Default is 1.\n",
    "        initial_Kp (float): The initial value for the proportional gain. Default is 1.\n",
    "        max_iterations (int): The maximum number of iterations to run the simulation. Default is 100.\n",
    "        dt (float): The time step for each iteration. Default is 0.1.\n",
    "\n",
    "    Returns:\n",
    "        tuple: A tuple containing:\n",
    "            - Kp_final (float): The final proportional gain, or None if tuning failed.\n",
    "            - Ki_final (float): The final integral gain, or None if tuning failed.\n",
    "            - Kd_final (float): The final derivative gain, or None if tuning failed.\n",
    "            - measured_values (list): A list of process values recorded during tuning.\n",
    "            - time_values (list): A list of time values corresponding to the measured values.\n",
    "\n",
    "    Notes:\n",
    "        - The function uses a simulated process (simulate_process) and a PID controller (PIDController).\n",
    "        - It increases Kp until sustained oscillations are detected.\n",
    "        - The critical gain (K_crit) is the Kp value that causes sustained oscillations.\n",
    "        - The critical period (T_crit) is the time between oscillations.\n",
    "        - PID parameters are calculated using Ziegler-Nichols formulas (classic PID):\n",
    "          Kp = 0.6 * K_crit\n",
    "          Ki = 2 * Kp / T_crit\n",
    "          Kd = Kp * T_crit / 8\n",
    "    \"\"\"\n",
    "    process_value = 0\n",
    "    Kp = initial_Kp\n",
    "    Ki = 0\n",
    "    Kd = 0\n",
    "    pid = PIDController(Kp, Ki, Kd, setpoint)\n",
    "    measured_values = []\n",
    "    time_values = []\n",
    "    oscillation_started = False\n",
    "    K_crit = None\n",
    "    T_crit = None\n",
    "    prev_sign = None\n",
    "    cross_time = None\n",
    "    osc_count = 0\n",
    "    \n",
    "    for i in range(max_iterations):\n",
    "        # Get control signal from PID controller\n",
    "        control_signal = pid.update(process_value, dt)\n",
    "        \n",
    "        # Simulate the process response\n",
    "        process_value = simulate_process(control_signal, process_value)\n",
    "        \n",
    "        # Record the process value and time\n",
    "        measured_values.append(process_value)\n",
    "        time_values.append(i * dt)\n",
    "        \n",
    "        # Check if the process starts oscillating\n",
    "        if i > 1 and not oscillation_started:\n",
    "            if measured_values[-1] * measured_values[-2] < 0:  # Zero crossing (sign change)\n",
    "                oscillation_started = True\n",
    "                prev_sign = np.sign(measured_values[-1])\n",
    "                cross_time = i * dt\n",
    "                osc_count = 1\n",
    "\n",
    "        # After oscillation starts, detect further zero crossings to calculate the oscillation period\n",
    "        if oscillation_started and measured_values[-1] * prev_sign < 0:\n",
    "            prev_sign = np.sign(measured_values[-1])\n",
    "            osc_count += 1\n",
    "            if osc_count == 3:  # Wait for two full oscillations\n",
    "                T_crit = (i * dt) - cross_time  # Calculate the oscillation period\n",
    "                K_crit = Kp\n",
    "                break\n",
    "        \n",
    "        # Increase Kp until oscillations start\n",
    "        Kp += 0.1\n",
    "        pid.Kp = Kp\n",
    "\n",
    "    # Calculate PID gains using Ziegler-Nichols method (for a PID controller)\n",
    "    if K_crit and T_crit:\n",
    "        Kp_final = 0.6 * K_crit\n",
    "        Ki_final = 2 * Kp_final / T_crit\n",
    "        Kd_final = Kp_final * T_crit / 8\n",
    "        print(f\"Ziegler-Nichols tuning results: Kp={Kp_final}, Ki={Ki_final}, Kd={Kd_final}\")\n",
    "        return Kp_final, Ki_final, Kd_final, measured_values, time_values\n",
    "    else:\n",
    "        print(\"Oscillations did not start.\")\n",
    "        return None, None, None, measured_values, time_values"
   ]
  },
  {
   "cell_type": "code",
   "execution_count": 5,
   "metadata": {},
   "outputs": [
    {
     "name": "stdout",
     "output_type": "stream",
     "text": [
      "Ziegler-Nichols tuning results: Kp=17.70000000000009, Ki=177.00000000000153, Kd=0.4425000000000007\n"
     ]
    },
    {
     "data": {
      "image/png": "[encoded data removed]",
      "text/plain": [
       "<Figure size 640x480 with 1 Axes>"
      ]
     },
     "metadata": {},
     "output_type": "display_data"
    }
   ],
   "source": [
    "# Run the Ziegler-Nichols tuning method\n",
    "Kp, Ki, Kd, measured_values, time_values = ziegler_nichols_tuning(max_iterations=1000)\n",
    "\n",
    "# Plot the process response\n",
    "plt.plot(time_values, measured_values, label=\"Process Output\")\n",
    "plt.axhline(y=1, color='r', linestyle='--', label=\"Setpoint\")\n",
    "plt.xlabel('Time (s)')\n",
    "plt.ylabel('Process Value')\n",
    "plt.title('Ziegler-Nichols PID Tuning')\n",
    "plt.legend()\n",
    "plt.show()"
   ]
  }
 ],
 "metadata": {
  "kernelspec": {
   "display_name": "CHE_593C",
   "language": "python",
   "name": "python3"
  },
  "language_info": {
   "codemirror_mode": {
    "name": "ipython",
    "version": 3
   },
   "file_extension": ".py",
   "mimetype": "text/x-python",
   "name": "python",
   "nbconvert_exporter": "python",
   "pygments_lexer": "ipython3",
   "version": "3.11.9"
  }
 },
 "nbformat": 4,
 "nbformat_minor": 2
}
