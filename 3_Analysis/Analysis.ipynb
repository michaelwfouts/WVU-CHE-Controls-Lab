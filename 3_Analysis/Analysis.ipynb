{
 "cells": [
  {
   "cell_type": "markdown",
   "metadata": {},
   "source": [
    "# Analysis\n",
    "\n",
    "The purpose of this notebook is to give a preliminary performance analysis on the controls systems.  For this notebook, a single value will be looked at to deterimine the performance of the control, which will be the Root Mean Squared Error (RMSE) at a specific setpoint for 120 seconds of continuous data.  This could be expanded upon by doing this analysis for multiple setpoints and averaging the RSME values together.  The RSME was chosen because it converts the metric back into the same units as the output being evaluated and that provides a more intuitive interpretation of the value."
   ]
  },
  {
   "cell_type": "code",
   "execution_count": 3,
   "metadata": {},
   "outputs": [],
   "source": [
    "# Import relevant libraries\n",
    "import pandas as pd\n",
    "import numpy as np\n",
    "\n",
    "# Import PID data\n",
    "df_pid = pd.read_excel('data/PID_Data.xlsx')\n",
    "# Clean due to some off readings from the arduino\n",
    "df_pid = df_pid[df_pid['Height Tank 2'] >= 100]\n",
    "\n",
    "# Import MPC data\n",
    "df_mpc = pd.read_excel('data/MPC_Evaluation_Data.xlsx')\n",
    "# Clean due to some off readings from the arduino\n",
    "df_mpc = df_mpc[df_mpc['Height Tank 2'] >= 100]"
   ]
  },
  {
   "cell_type": "code",
   "execution_count": 4,
   "metadata": {},
   "outputs": [
    {
     "name": "stdout",
     "output_type": "stream",
     "text": [
      "RMSE for the PID is: 13.5883\n",
      "RMSE for the MPC is: 18.5727\n"
     ]
    }
   ],
   "source": [
    "# Get the last timestamp in the DataFrame\n",
    "last_timestamp_pid = df_pid['Timestamp'].iloc[-1]\n",
    "last_timestamp_mpc = df_mpc['Timestamp'].iloc[-1]\n",
    "\n",
    "# Calculate the cutoff time (120 seconds before the last timestamp)\n",
    "cutoff_time_pid = last_timestamp_pid - pd.Timedelta(seconds=120)\n",
    "cutoff_time_mpc = last_timestamp_mpc - pd.Timedelta(seconds=120)\n",
    "\n",
    "# Filter rows that are within the last 120 seconds\n",
    "last_120_seconds_pid = df_pid[df_pid['Timestamp'] >= cutoff_time_pid]\n",
    "last_120_seconds_mpc = df_mpc[df_mpc['Timestamp'] >= cutoff_time_mpc]\n",
    "\n",
    "# Assume you want to compare 'Height Tank 2' to the mean of the last 120 seconds as a baseline\n",
    "actual_values_pid = last_120_seconds_pid['Height Tank 2']\n",
    "actual_values_mpc = last_120_seconds_mpc['Height Tank 2']\n",
    "\n",
    "setpoint = 350\n",
    "\n",
    "# Calculate MSE\n",
    "mse_pid = np.sqrt(np.mean((actual_values_pid - setpoint) ** 2))\n",
    "mse_mpc = np.sqrt(np.mean((actual_values_mpc - setpoint) ** 2))\n",
    "\n",
    "print(f'RMSE for the PID is: {round(mse_pid, 2)}')\n",
    "print(f'RMSE for the MPC is: {round(mse_mpc, 2)}')"
   ]
  },
  {
   "cell_type": "markdown",
   "metadata": {},
   "source": [
    "From this example dataset, we can see that the PID performed better for the system.  This could be due to the simple nature of the setup and a suggestion that more data may need to be collected to have the MPC to operate better."
   ]
  }
 ],
 "metadata": {
  "kernelspec": {
   "display_name": "CHE_593C",
   "language": "python",
   "name": "python3"
  },
  "language_info": {
   "codemirror_mode": {
    "name": "ipython",
    "version": 3
   },
   "file_extension": ".py",
   "mimetype": "text/x-python",
   "name": "python",
   "nbconvert_exporter": "python",
   "pygments_lexer": "ipython3",
   "version": "3.11.9"
  }
 },
 "nbformat": 4,
 "nbformat_minor": 2
}
