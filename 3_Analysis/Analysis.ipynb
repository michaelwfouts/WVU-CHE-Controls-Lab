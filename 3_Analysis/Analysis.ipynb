{
 "cells": [
  {
   "cell_type": "code",
   "execution_count": 26,
   "metadata": {},
   "outputs": [],
   "source": [
    "import pandas as pd\n",
    "import numpy as np\n",
    "\n",
    "df = pd.read_excel('data/PID_Data.xlsx')\n",
    "df = df[df['Height Tank 2'] >= 100]"
   ]
  },
  {
   "cell_type": "code",
   "execution_count": 27,
   "metadata": {},
   "outputs": [
    {
     "name": "stdout",
     "output_type": "stream",
     "text": [
      "Root Mean Squared Error (MSE) for the last 120 seconds: 13.5882679411699\n"
     ]
    }
   ],
   "source": [
    "# Get the last timestamp in the DataFrame\n",
    "last_timestamp = df['Timestamp'].iloc[-1]\n",
    "\n",
    "# Calculate the cutoff time (120 seconds before the last timestamp)\n",
    "cutoff_time = last_timestamp - pd.Timedelta(seconds=120)\n",
    "\n",
    "# Filter rows that are within the last 120 seconds\n",
    "last_120_seconds_df = df[df['Timestamp'] >= cutoff_time]\n",
    "\n",
    "# Assume you want to compare 'Height Tank 2' to the mean of the last 120 seconds as a baseline\n",
    "actual_values = last_120_seconds_df['Height Tank 2']\n",
    "setpoint = 350\n",
    "\n",
    "# Calculate MSE\n",
    "mse = np.sqrt(np.mean((actual_values - setpoint) ** 2))\n",
    "\n",
    "print(f'Root Mean Squared Error (MSE) for the last 120 seconds: {mse}')"
   ]
  }
 ],
 "metadata": {
  "kernelspec": {
   "display_name": "CHE_593C",
   "language": "python",
   "name": "python3"
  },
  "language_info": {
   "codemirror_mode": {
    "name": "ipython",
    "version": 3
   },
   "file_extension": ".py",
   "mimetype": "text/x-python",
   "name": "python",
   "nbconvert_exporter": "python",
   "pygments_lexer": "ipython3",
   "version": "3.11.9"
  }
 },
 "nbformat": 4,
 "nbformat_minor": 2
}
